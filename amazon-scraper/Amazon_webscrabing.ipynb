{
 "cells": [
  {
   "cell_type": "markdown",
   "metadata": {},
   "source": [
    "## Import Modules"
   ]
  },
  {
   "cell_type": "code",
   "execution_count": 29,
   "metadata": {},
   "outputs": [],
   "source": [
    "from selenium import webdriver\n",
    "from selenium.webdriver.common.by import By\n",
    "from time import sleep\n",
    "import pandas as pd"
   ]
  },
  {
   "cell_type": "markdown",
   "metadata": {},
   "source": [
    "## Set Webdriver called Fathi"
   ]
  },
  {
   "cell_type": "code",
   "execution_count": 30,
   "metadata": {},
   "outputs": [],
   "source": [
    "# open the fathi\n",
    "fathi = webdriver.Chrome()"
   ]
  },
  {
   "cell_type": "code",
   "execution_count": 31,
   "metadata": {},
   "outputs": [],
   "source": [
    "# load the webpage\n",
    "fathi.get('https://www.amazon.eg/-/en/ref=nav_logo')"
   ]
  },
  {
   "cell_type": "code",
   "execution_count": 32,
   "metadata": {},
   "outputs": [],
   "source": [
    "fathi.maximize_window()"
   ]
  },
  {
   "cell_type": "markdown",
   "metadata": {},
   "source": [
    "## Define Button to Navigate & Search"
   ]
  },
  {
   "cell_type": "code",
   "execution_count": 33,
   "metadata": {},
   "outputs": [],
   "source": [
    "# get the input elements\n",
    "input_search = fathi.find_element(By.ID, 'twotabsearchtextbox')\n",
    "search_button = fathi.find_element(By.XPATH, \"(//input[@type='submit'])[1]\")"
   ]
  },
  {
   "cell_type": "code",
   "execution_count": 34,
   "metadata": {},
   "outputs": [],
   "source": [
    "# send the input to the webpage\n",
    "input_search.send_keys(\"Smartphones\")\n",
    "sleep(1)\n",
    "search_button.click()"
   ]
  },
  {
   "cell_type": "markdown",
   "metadata": {},
   "source": [
    "## Scrape Products from Amazon"
   ]
  },
  {
   "cell_type": "code",
   "execution_count": null,
   "metadata": {},
   "outputs": [
    {
     "name": "stdout",
     "output_type": "stream",
     "text": [
      "Scraping page 1\n",
      "Scraping page 2\n",
      "Scraping page 3\n",
      "Scraping page 4\n",
      "Scraping page 5\n",
      "Scraping page 6\n"
     ]
    }
   ],
   "source": [
    "# Scrape Products from Amazon\n",
    "products = []\n",
    "prices = []\n",
    "reviews = []\n",
    "for i in range(6):\n",
    "    print('Scraping page', i+1)\n",
    "    product_elements = fathi.find_elements(By.XPATH, \"//a/h2//span\")\n",
    "    price_elements = fathi.find_elements(By.XPATH, \"//span[@class='a-price-whole']\")\n",
    "    review_elements = fathi.find_elements(By.XPATH, \"//span[@class='a-size-base s-underline-text']\")\n",
    "    # Use zip to ensure matching lengths, or append separately if needed\n",
    "    for p in product_elements:\n",
    "        products.append(p.text)\n",
    "    for pr in price_elements:\n",
    "        prices.append(pr.text)\n",
    "    for r in review_elements:\n",
    "        reviews.append(r.text)\n",
    "    try:\n",
    "        next_button = fathi.find_element(By.XPATH, \"//a[text()='Next']\")\n",
    "        next_button.click()\n",
    "        sleep(2)\n",
    "    except:\n",
    "        print(\"No more pages.\")\n",
    "        break"
   ]
  },
  {
   "cell_type": "markdown",
   "metadata": {},
   "source": [
    "Shut Down Fathi"
   ]
  },
  {
   "cell_type": "code",
   "execution_count": 36,
   "metadata": {},
   "outputs": [],
   "source": [
    "fathi.quit()"
   ]
  },
  {
   "cell_type": "markdown",
   "metadata": {},
   "source": [
    "## Data To CSv"
   ]
  },
  {
   "cell_type": "markdown",
   "metadata": {},
   "source": [
    "Create DataFrame"
   ]
  },
  {
   "cell_type": "code",
   "execution_count": 37,
   "metadata": {},
   "outputs": [
    {
     "name": "stdout",
     "output_type": "stream",
     "text": [
      "                                        Product Name   Price Reviews\n",
      "0  Google Pixel 7 Single SIM, 5G, 8GB Ram, 256GB,...  25,550     360\n",
      "1  SAMSUNG Galaxy Z Fold6, AI Phone, 12GB RAM, 51...  84,950      13\n",
      "2  SAMSUNG Galaxy Z Fold6, 12GB RAM, 256GB Storag...  76,950      25\n",
      "3  Samsung Galaxy A06 Dual Sim 6GB RAM 128GB Stor...   5,831   2,493\n",
      "4  Xiaomi Redmi A5 Smartphone 4GB + 128GB, Batter...   4,774      29\n"
     ]
    }
   ],
   "source": [
    "# Create DataFrame\n",
    "min_len = min(len(products), len(prices), len(reviews))\n",
    "Amazon_Data = pd.DataFrame({\n",
    "    'Product Name': products[:min_len],\n",
    "    'Price': prices[:min_len],\n",
    "    'Reviews': reviews[:min_len]\n",
    "})\n",
    "print(Amazon_Data.head())"
   ]
  },
  {
   "cell_type": "code",
   "execution_count": 38,
   "metadata": {},
   "outputs": [],
   "source": [
    "# Save to CSV\n",
    "Amazon_Data.to_csv('amazon_products.csv', index=False, columns=['Product Name', 'Price', 'Reviews'])"
   ]
  }
 ],
 "metadata": {
  "kernelspec": {
   "display_name": "Python 3",
   "language": "python",
   "name": "python3"
  },
  "language_info": {
   "codemirror_mode": {
    "name": "ipython",
    "version": 3
   },
   "file_extension": ".py",
   "mimetype": "text/x-python",
   "name": "python",
   "nbconvert_exporter": "python",
   "pygments_lexer": "ipython3",
   "version": "3.13.7"
  }
 },
 "nbformat": 4,
 "nbformat_minor": 4
}
