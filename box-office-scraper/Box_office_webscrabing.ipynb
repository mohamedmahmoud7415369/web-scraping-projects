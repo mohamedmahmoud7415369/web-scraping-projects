{
 "cells": [
  {
   "cell_type": "markdown",
   "id": "ac6fe2e8",
   "metadata": {},
   "source": [
    "## Import Modules"
   ]
  },
  {
   "cell_type": "code",
   "execution_count": 113,
   "id": "e85a85f3",
   "metadata": {},
   "outputs": [],
   "source": [
    "from selenium import webdriver\n",
    "from selenium.webdriver.common.by import By\n",
    "from time import sleep\n",
    "import pandas as pd"
   ]
  },
  {
   "cell_type": "markdown",
   "id": "17f2dd84",
   "metadata": {},
   "source": [
    "## Set Webdriver called Fathi"
   ]
  },
  {
   "cell_type": "code",
   "execution_count": 114,
   "id": "73f1fb8f",
   "metadata": {},
   "outputs": [],
   "source": [
    "# open the fathi\n",
    "fathi = webdriver.Chrome()"
   ]
  },
  {
   "cell_type": "code",
   "execution_count": 115,
   "id": "ba6c8a79",
   "metadata": {},
   "outputs": [],
   "source": [
    "# load the webpage\n",
    "fathi.get('https://www.boxofficemojo.com/chart/top_lifetime_gross/?area=XWW')"
   ]
  },
  {
   "cell_type": "code",
   "execution_count": 116,
   "id": "1e30e27f",
   "metadata": {},
   "outputs": [],
   "source": [
    "fathi.maximize_window()"
   ]
  },
  {
   "cell_type": "code",
   "execution_count": 117,
   "id": "7a7e7797",
   "metadata": {},
   "outputs": [],
   "source": [
    "# Scrape Products from Amazon\n",
    "Film_title = []\n",
    "Lifetime_gross = []\n",
    "Year = []\n",
    "Film_titles = fathi.find_elements(By.XPATH, \"//td[@class='a-text-left mojo-field-type-title']/a\")\n",
    "lifetime_gross = fathi.find_elements(By.XPATH, \"//td [@class ='a-text-right mojo-field-type-money']\")\n",
    "year = fathi.find_elements(By.XPATH, \"//td [@class ='a-text-left mojo-field-type-year']\")\n",
    "for i in Film_titles:\n",
    "    Film_title.append(i.text)\n",
    "for i in lifetime_gross:\n",
    "    Lifetime_gross.append(i.text)\n",
    "for i in year:\n",
    "    Year.append(i.text)\n"
   ]
  },
  {
   "cell_type": "markdown",
   "id": "d1686344",
   "metadata": {},
   "source": [
    "## Scrape Products from Amazon"
   ]
  },
  {
   "cell_type": "markdown",
   "id": "b2242e9c",
   "metadata": {},
   "source": [
    "Shut Down Fathi"
   ]
  },
  {
   "cell_type": "code",
   "execution_count": 118,
   "id": "edb6976e",
   "metadata": {},
   "outputs": [],
   "source": [
    "fathi.quit()"
   ]
  },
  {
   "cell_type": "markdown",
   "id": "2f193a20",
   "metadata": {},
   "source": [
    "## Data To CSv"
   ]
  },
  {
   "cell_type": "markdown",
   "id": "f8e8aff6",
   "metadata": {},
   "source": [
    "Create DataFrame"
   ]
  },
  {
   "cell_type": "code",
   "execution_count": 119,
   "id": "17f6588e",
   "metadata": {},
   "outputs": [
    {
     "data": {
      "text/html": [
       "<div>\n",
       "<style scoped>\n",
       "    .dataframe tbody tr th:only-of-type {\n",
       "        vertical-align: middle;\n",
       "    }\n",
       "\n",
       "    .dataframe tbody tr th {\n",
       "        vertical-align: top;\n",
       "    }\n",
       "\n",
       "    .dataframe thead th {\n",
       "        text-align: right;\n",
       "    }\n",
       "</style>\n",
       "<table border=\"1\" class=\"dataframe\">\n",
       "  <thead>\n",
       "    <tr style=\"text-align: right;\">\n",
       "      <th></th>\n",
       "      <th>Film Title</th>\n",
       "      <th>Lifetime Gross</th>\n",
       "      <th>Year</th>\n",
       "    </tr>\n",
       "  </thead>\n",
       "  <tbody>\n",
       "    <tr>\n",
       "      <th>0</th>\n",
       "      <td>Avatar</td>\n",
       "      <td>$2,923,710,708</td>\n",
       "      <td>2009</td>\n",
       "    </tr>\n",
       "    <tr>\n",
       "      <th>1</th>\n",
       "      <td>Avengers: Endgame</td>\n",
       "      <td>$2,799,439,100</td>\n",
       "      <td>2019</td>\n",
       "    </tr>\n",
       "    <tr>\n",
       "      <th>2</th>\n",
       "      <td>Avatar: The Way of Water</td>\n",
       "      <td>$2,320,250,281</td>\n",
       "      <td>2022</td>\n",
       "    </tr>\n",
       "    <tr>\n",
       "      <th>3</th>\n",
       "      <td>Titanic</td>\n",
       "      <td>$2,264,812,968</td>\n",
       "      <td>1997</td>\n",
       "    </tr>\n",
       "    <tr>\n",
       "      <th>4</th>\n",
       "      <td>Ne Zha 2</td>\n",
       "      <td>$2,150,000,000</td>\n",
       "      <td>2025</td>\n",
       "    </tr>\n",
       "    <tr>\n",
       "      <th>5</th>\n",
       "      <td>Star Wars: Episode VII - The Force Awakens</td>\n",
       "      <td>$2,071,310,218</td>\n",
       "      <td>2015</td>\n",
       "    </tr>\n",
       "    <tr>\n",
       "      <th>6</th>\n",
       "      <td>Avengers: Infinity War</td>\n",
       "      <td>$2,052,415,039</td>\n",
       "      <td>2018</td>\n",
       "    </tr>\n",
       "    <tr>\n",
       "      <th>7</th>\n",
       "      <td>Spider-Man: No Way Home</td>\n",
       "      <td>$1,921,426,073</td>\n",
       "      <td>2021</td>\n",
       "    </tr>\n",
       "    <tr>\n",
       "      <th>8</th>\n",
       "      <td>Inside Out 2</td>\n",
       "      <td>$1,698,863,816</td>\n",
       "      <td>2024</td>\n",
       "    </tr>\n",
       "    <tr>\n",
       "      <th>9</th>\n",
       "      <td>Jurassic World</td>\n",
       "      <td>$1,671,537,444</td>\n",
       "      <td>2015</td>\n",
       "    </tr>\n",
       "  </tbody>\n",
       "</table>\n",
       "</div>"
      ],
      "text/plain": [
       "                                   Film Title  Lifetime Gross  Year\n",
       "0                                      Avatar  $2,923,710,708  2009\n",
       "1                           Avengers: Endgame  $2,799,439,100  2019\n",
       "2                    Avatar: The Way of Water  $2,320,250,281  2022\n",
       "3                                     Titanic  $2,264,812,968  1997\n",
       "4                                    Ne Zha 2  $2,150,000,000  2025\n",
       "5  Star Wars: Episode VII - The Force Awakens  $2,071,310,218  2015\n",
       "6                      Avengers: Infinity War  $2,052,415,039  2018\n",
       "7                     Spider-Man: No Way Home  $1,921,426,073  2021\n",
       "8                                Inside Out 2  $1,698,863,816  2024\n",
       "9                              Jurassic World  $1,671,537,444  2015"
      ]
     },
     "execution_count": 119,
     "metadata": {},
     "output_type": "execute_result"
    }
   ],
   "source": [
    "# Remove '2009' from all film titles\n",
    "Film_title = [title.replace('2009', '').strip() for title in Film_title]\n",
    "\n",
    "# Create DataFrame with equal length columns\n",
    "min_len = min(len(Film_title), len(Lifetime_gross), len(Year))\n",
    "data = pd.DataFrame({\n",
    "    'Film Title': Film_title[:min_len],\n",
    "    'Lifetime Gross': Lifetime_gross[:min_len],\n",
    "    'Year': Year[:min_len]\n",
    "})\n",
    "data.head(10)"
   ]
  },
  {
   "cell_type": "code",
   "execution_count": 120,
   "id": "252b1147",
   "metadata": {},
   "outputs": [],
   "source": [
    "# Save to CSV\n",
    "data.to_csv('Box_office.csv', index=False,columns=['Film Title', 'Lifetime Gross', 'Year'])"
   ]
  }
 ],
 "metadata": {
  "kernelspec": {
   "display_name": "Python 3",
   "language": "python",
   "name": "python3"
  },
  "language_info": {
   "codemirror_mode": {
    "name": "ipython",
    "version": 3
   },
   "file_extension": ".py",
   "mimetype": "text/x-python",
   "name": "python",
   "nbconvert_exporter": "python",
   "pygments_lexer": "ipython3",
   "version": "3.13.7"
  }
 },
 "nbformat": 4,
 "nbformat_minor": 5
}
